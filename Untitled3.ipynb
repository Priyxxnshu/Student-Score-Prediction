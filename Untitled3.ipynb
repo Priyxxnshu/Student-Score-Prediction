{
  "nbformat": 4,
  "nbformat_minor": 0,
  "metadata": {
    "colab": {
      "provenance": []
    },
    "kernelspec": {
      "name": "python3",
      "display_name": "Python 3"
    },
    "language_info": {
      "name": "python"
    }
  },
  "cells": [
    {
      "cell_type": "markdown",
      "source": [
        "# **The Sparks Foundation - Data Science & Business Analytics Internship**"
      ],
      "metadata": {
        "id": "1VsisJS3IwjF"
      }
    },
    {
      "cell_type": "markdown",
      "source": [
        "Task-1 - Prediction Using Supervised Machine Learning"
      ],
      "metadata": {
        "id": "SjmHPF7JJBN5"
      }
    },
    {
      "cell_type": "markdown",
      "source": [
        "## Problem Statement\n",
        "The Model Focus on finding the relationship between the efforts of a student and the result He/She achieves. The Problem is straightforward and the Goal is to Train the Model to predict this Relationship\n",
        "\n",
        "**How much does the number of Hours studdied influence the Percentage of the Student**"
      ],
      "metadata": {
        "id": "3NPKaLqoK0dT"
      }
    },
    {
      "cell_type": "markdown",
      "source": [
        "## Importing important Libraries"
      ],
      "metadata": {
        "id": "Ii5mK8ppL0EA"
      }
    },
    {
      "cell_type": "code",
      "source": [
        "import pandas as pd\n",
        "import numpy as np\n",
        "import matplotlib.pyplot as plt\n",
        "import seaborn as sns"
      ],
      "metadata": {
        "id": "KQN8AP7sL9tK"
      },
      "execution_count": null,
      "outputs": []
    },
    {
      "cell_type": "markdown",
      "source": [
        "## Loading The Dataset"
      ],
      "metadata": {
        "id": "tSXIarAjMOli"
      }
    },
    {
      "cell_type": "code",
      "source": [
        "df = pd.read_csv('/content/ml.csv')"
      ],
      "metadata": {
        "id": "CEIy-F2UMKhk"
      },
      "execution_count": 1,
      "outputs": []
    },
    {
      "cell_type": "code",
      "source": [
        "df.head()"
      ],
      "metadata": {
        "id": "UrtmCrPDMkS2"
      },
      "execution_count": null,
      "outputs": []
    },
    {
      "cell_type": "markdown",
      "source": [
        "## Exploratory Data Analysis"
      ],
      "metadata": {
        "id": "8E-mF7cTMq2c"
      }
    },
    {
      "cell_type": "code",
      "source": [
        "# checking the shape of Dataset\n",
        "df.shape"
      ],
      "metadata": {
        "id": "ldd5atxkMlt2"
      },
      "execution_count": null,
      "outputs": []
    },
    {
      "cell_type": "code",
      "source": [
        "# checking for Null Values\n",
        "df.isnull().sum()"
      ],
      "metadata": {
        "id": "ZhSCaR4dM1FC"
      },
      "execution_count": null,
      "outputs": []
    },
    {
      "cell_type": "markdown",
      "source": [
        "There are no null values in the Dataset"
      ],
      "metadata": {
        "id": "Dkh3VNJaNKzf"
      }
    },
    {
      "cell_type": "code",
      "source": [
        "# Checking for Duplicate Values\n",
        "df.duplicated().sum()"
      ],
      "metadata": {
        "id": "puoOOZ_nNAqj"
      },
      "execution_count": null,
      "outputs": []
    },
    {
      "cell_type": "markdown",
      "source": [
        "There are no Duplicate Values"
      ],
      "metadata": {
        "id": "uZbA_oZWNPQv"
      }
    },
    {
      "cell_type": "code",
      "source": [
        "df.describe()"
      ],
      "metadata": {
        "id": "f_WSJKNlMwxC"
      },
      "execution_count": null,
      "outputs": []
    },
    {
      "cell_type": "markdown",
      "source": [
        "Analyzing the Numerical Feature"
      ],
      "metadata": {
        "id": "OAc9fNq8NS94"
      }
    },
    {
      "cell_type": "markdown",
      "source": [
        "## Data Visualization"
      ],
      "metadata": {
        "id": "MSOwcrnoN97U"
      }
    },
    {
      "cell_type": "code",
      "source": [
        "plt.figure(figsize=(20,5))\n",
        "\n",
        "plt.subplot(1,2,1)\n",
        "sns.histplot(df['Hours'], kde=True)\n",
        "\n",
        "plt.subplot(1,2,2)\n",
        "sns.histplot(df['Scores'], kde=True)\n",
        "\n",
        "plt.show()"
      ],
      "metadata": {
        "id": "XoC7g3IiNDLR"
      },
      "execution_count": null,
      "outputs": []
    },
    {
      "cell_type": "code",
      "source": [
        "plt.style.use('ggplot')\n",
        "plt.scatter(df['Hours'], df['Scores'])\n",
        "plt.xlabel('Scores')\n",
        "plt.ylabel('Hours')\n",
        "plt.title('Scores vs Hours')\n",
        "plt.show()"
      ],
      "metadata": {
        "id": "kfoMetvtPH-A"
      },
      "execution_count": null,
      "outputs": []
    },
    {
      "cell_type": "markdown",
      "source": [
        "This Graph show a Positive Linear relationship between scores and hours. therefore, we will build our Model using the **Linear Regression** Algorithm."
      ],
      "metadata": {
        "id": "rkFhJI_qQaad"
      }
    },
    {
      "cell_type": "code",
      "source": [
        "# Separating the Feature and label\n",
        "x = df['Hours']\n",
        "y = df['Scores']\n",
        "\n",
        "x = x.values.reshape(-1, 1)\n",
        "y = y.values.reshape(-1, 1)"
      ],
      "metadata": {
        "id": "SUzln231PlBh"
      },
      "execution_count": null,
      "outputs": []
    },
    {
      "cell_type": "code",
      "source": [
        "x"
      ],
      "metadata": {
        "id": "SWS5fOvdRaz9"
      },
      "execution_count": null,
      "outputs": []
    },
    {
      "cell_type": "code",
      "source": [
        "y"
      ],
      "metadata": {
        "id": "oO8ol21RSJlW"
      },
      "execution_count": null,
      "outputs": []
    },
    {
      "cell_type": "code",
      "source": [
        "# Splitting into Training and Testing Data\n",
        "from sklearn.model_selection import train_test_split\n",
        "x_train, x_test, y_train, y_test = train_test_split(x, y, test_size=.2, random_state=0)"
      ],
      "metadata": {
        "id": "a_3fFRWKSKLb"
      },
      "execution_count": null,
      "outputs": []
    },
    {
      "cell_type": "code",
      "source": [
        "from sklearn.linear_model import LinearRegression\n",
        "\n",
        "model = LinearRegression()\n",
        "model.fit(x_train, y_train)"
      ],
      "metadata": {
        "id": "8U-xGkaAS6Z6"
      },
      "execution_count": null,
      "outputs": []
    },
    {
      "cell_type": "markdown",
      "source": [
        "# Making Predictions"
      ],
      "metadata": {
        "id": "pQkub6e8ffgg"
      }
    },
    {
      "cell_type": "code",
      "source": [
        "predict = model.predict(x_test)"
      ],
      "metadata": {
        "id": "1rvrNHQteShu"
      },
      "execution_count": null,
      "outputs": []
    },
    {
      "cell_type": "markdown",
      "source": [
        "### What will be the Predicted score if a student studies for 9.25 Hours/day?"
      ],
      "metadata": {
        "id": "vCWFiNtQmmdx"
      }
    },
    {
      "cell_type": "code",
      "source": [
        "prediction = model.predict([[9.25]])\n",
        "predict_value = prediction.item()\n",
        "print(f'The Predicted Score if a student studies for 9.25 Hours/day is {predict_value:.2f}%')"
      ],
      "metadata": {
        "id": "C57Ro95Hgba_"
      },
      "execution_count": null,
      "outputs": []
    },
    {
      "cell_type": "markdown",
      "source": [
        "## Evaluating Model"
      ],
      "metadata": {
        "id": "ADqCjQKlqm65"
      }
    },
    {
      "cell_type": "code",
      "source": [
        "from sklearn.metrics import mean_absolute_error\n",
        "mae = mean_absolute_error(y_test, predict)"
      ],
      "metadata": {
        "id": "a35YZRfVgi6E"
      },
      "execution_count": null,
      "outputs": []
    },
    {
      "cell_type": "code",
      "source": [
        "print(f'Mean Absolute Error is {mae:.2f}')"
      ],
      "metadata": {
        "id": "lPabuFkGrHVc"
      },
      "execution_count": null,
      "outputs": []
    }
  ]
}